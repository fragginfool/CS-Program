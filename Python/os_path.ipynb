{
 "cells": [
  {
   "cell_type": "code",
   "execution_count": 1,
   "id": "23de869a",
   "metadata": {},
   "outputs": [
    {
     "data": {
      "text/plain": [
       "('/home/josh/CS-Program', 'Python')"
      ]
     },
     "execution_count": 1,
     "metadata": {},
     "output_type": "execute_result"
    }
   ],
   "source": [
    "#Using os.path\n",
    "import os\n",
    "cur_dir = os.getcwd()\n",
    "os.path.split(cur_dir)"
   ]
  },
  {
   "cell_type": "code",
   "execution_count": 2,
   "id": "cbcddf21",
   "metadata": {},
   "outputs": [
    {
     "name": "stdout",
     "output_type": "stream",
     "text": [
      "/home/josh/CS-Program/Python\n"
     ]
    }
   ],
   "source": [
    "print(cur_dir)"
   ]
  },
  {
   "cell_type": "code",
   "execution_count": 3,
   "id": "73cea63e",
   "metadata": {},
   "outputs": [
    {
     "data": {
      "text/plain": [
       "'Python'"
      ]
     },
     "execution_count": 3,
     "metadata": {},
     "output_type": "execute_result"
    }
   ],
   "source": [
    "os.path.basename(cur_dir)"
   ]
  },
  {
   "cell_type": "code",
   "execution_count": 2,
   "id": "2c187a3e",
   "metadata": {},
   "outputs": [
    {
     "name": "stdout",
     "output_type": "stream",
     "text": [
      "Checking: /home/josh/Bookshelf\n",
      "File: /home/josh/Bookshelf/ansible_upandrunning3rdedition.epub\n",
      "\tlast accessed: 1739041624.8670864\n",
      "\tsize: 13522619\n",
      "File: /home/josh/Bookshelf/learninggithubactions.epub\n",
      "\tlast accessed: 1739041634.9670346\n",
      "\tsize: 23538175\n",
      "File: /home/josh/Bookshelf/pythoncookbook.pdf\n",
      "\tlast accessed: 1738637405.0305479\n",
      "\tsize: 8261489\n",
      "File: /home/josh/Bookshelf/docker_upandrunning3rdedition.epub\n",
      "\tlast accessed: 1739041615.591134\n",
      "\tsize: 4248599\n",
      "File: /home/josh/Bookshelf/mathadventureswithpython.pdf\n",
      "\tlast accessed: 1738637402.1865644\n",
      "\tsize: 10499422\n",
      "File: /home/josh/Bookshelf/becomingabetterprogrammer.pdf\n",
      "\tlast accessed: 1738637392.1466224\n",
      "\tsize: 33511012\n",
      "File: /home/josh/Bookshelf/inventyourowncomputergameswithpython.pdf\n",
      "\tlast accessed: 1738637399.0065827\n",
      "\tsize: 12338524\n",
      "File: /home/josh/Bookshelf/kubernetes_upandrunning3e.epub\n",
      "\tlast accessed: 1739041617.5791237\n",
      "\tsize: 2751334\n",
      "File: /home/josh/Bookshelf/automatetheboringstuffwithpython_2e.pdf\n",
      "\tlast accessed: 1738637391.2346277\n",
      "\tsize: 14402465\n",
      "File: /home/josh/Bookshelf/efficientlinuxatthecommandline.epub\n",
      "\tlast accessed: 1739041607.5911748\n",
      "\tsize: 3230034\n",
      "File: /home/josh/Bookshelf/crackingcodeswithpython.pdf\n",
      "\tlast accessed: 1738637395.4066036\n",
      "\tsize: 8567072\n",
      "File: /home/josh/Bookshelf/impracticalpythonprojects.pdf\n",
      "\tlast accessed: 1738637398.1425877\n",
      "\tsize: 10235176\n",
      "File: /home/josh/Bookshelf/networkprogrammabilityandautomation2ndedition.epub\n",
      "\tlast accessed: 1739041629.9470603\n",
      "\tsize: 9460720\n",
      "File: /home/josh/Bookshelf/linuxpocketguide4thedition.epub\n",
      "\tlast accessed: 1739041627.9430707\n",
      "\tsize: 3524172\n",
      "File: /home/josh/Bookshelf/pythonfordevops.epub\n",
      "\tlast accessed: 1739041603.8231943\n",
      "\tsize: 8510353\n",
      "File: /home/josh/Bookshelf/missionpython.pdf\n",
      "\tlast accessed: 1738637402.9785597\n",
      "\tsize: 11506284\n",
      "File: /home/josh/Bookshelf/aiandmachinelearningforcoders_V4.pdf\n",
      "\tlast accessed: 1738637380.44269\n",
      "\tsize: 39999641\n",
      "File: /home/josh/Bookshelf/blackhatpython.pdf\n",
      "\tlast accessed: 1738637394.7946072\n",
      "\tsize: 6871913\n",
      "File: /home/josh/Bookshelf/pythonforkids_1490905401.pdf\n",
      "\tlast accessed: 1738637406.3665402\n",
      "\tsize: 14975098\n",
      "File: /home/josh/Bookshelf/learningmodernlinux.epub\n",
      "\tlast accessed: 1739041633.9630399\n",
      "\tsize: 5497686\n",
      "File: /home/josh/Bookshelf/webapplicationsecurity.epub\n",
      "\tlast accessed: 1739041609.6031647\n",
      "\tsize: 16290735\n",
      "File: /home/josh/Bookshelf/realworldsoftwaredevelopment.pdf\n",
      "\tlast accessed: 1738637409.7025208\n",
      "\tsize: 6972730\n",
      "File: /home/josh/Bookshelf/distributedsystemswithnodejs.pdf\n",
      "\tlast accessed: 1738637396.182599\n",
      "\tsize: 8689217\n",
      "File: /home/josh/Bookshelf/algorithmsinanutshell.pdf\n",
      "\tlast accessed: 1738637386.0186577\n",
      "\tsize: 12466076\n",
      "File: /home/josh/Bookshelf/doingmathwithpython.pdf\n",
      "\tlast accessed: 1738637397.1545935\n",
      "\tsize: 4768776\n",
      "File: /home/josh/Bookshelf/BeginnersGuide-5thEd-Eng_v3.pdf\n",
      "\tlast accessed: 1732023825.5672991\n",
      "\tsize: 57505220\n",
      "File: /home/josh/Bookshelf/artofagiledevelopment2e_V2.pdf\n",
      "\tlast accessed: 1738637388.3826442\n",
      "\tsize: 7276526\n",
      "File: /home/josh/Bookshelf/terraform_upandrunning3rdedition_V2.epub\n",
      "\tlast accessed: 1739041613.6231441\n",
      "\tsize: 9517343\n",
      "File: /home/josh/Bookshelf/seriouspython.pdf\n",
      "\tlast accessed: 1738637411.1705122\n",
      "\tsize: 5098079\n",
      "File: /home/josh/Bookshelf/pythonplayground_geekyprojectsforthecuriousprogrammer (1).pdf\n",
      "\tlast accessed: 1738637407.7025323\n",
      "\tsize: 12046743\n",
      "File: /home/josh/Bookshelf/pythoncrashcourse2ndedition.pdf\n",
      "\tlast accessed: 1738637405.5625448\n",
      "\tsize: 7238584\n",
      "File: /home/josh/Bookshelf/learningdevsecops.epub\n",
      "\tlast accessed: 1739041631.94705\n",
      "\tsize: 6519406\n",
      "File: /home/josh/Bookshelf/grpc_upandrunning.pdf\n",
      "\tlast accessed: 1738637397.73059\n",
      "\tsize: 5633899\n",
      "File: /home/josh/Bookshelf/programmingtheinternetofthings.pdf\n",
      "\tlast accessed: 1738637404.002554\n",
      "\tsize: 13640443\n",
      "File: /home/josh/Bookshelf/grayhatpython.pdf\n",
      "\tlast accessed: 1738637397.5025914\n",
      "\tsize: 3693360\n",
      "File: /home/josh/Bookshelf/97thingseveryprogrammershouldknow.pdf\n",
      "\tlast accessed: 1738637379.394696\n",
      "\tsize: 3611441\n",
      "File: /home/josh/Bookshelf/teachyourkidstocode_1490913058.pdf\n",
      "\tlast accessed: 1738637411.4945104\n",
      "\tsize: 16027061\n",
      "File: /home/josh/Bookshelf/refactoringatscale_V2.pdf\n",
      "\tlast accessed: 1738637410.2425177\n",
      "\tsize: 12534578\n",
      "File: /home/josh/Bookshelf/artofreadablecode.pdf\n",
      "\tlast accessed: 1738637388.9826407\n",
      "\tsize: 29084048\n",
      "File: /home/josh/Bookshelf/learningalgorithms_V2.pdf\n",
      "\tlast accessed: 1738637400.4665742\n",
      "\tsize: 11968032\n",
      "File: /home/josh/Bookshelf/fastapi.epub\n",
      "\tlast accessed: 1739041611.5831544\n",
      "\tsize: 24766234\n",
      "File: /home/josh/Bookshelf/learningserverless_V2.pdf\n",
      "\tlast accessed: 1738637401.3505692\n",
      "\tsize: 11042893\n",
      "File: /home/josh/Bookshelf/pythonplayground_geekyprojectsforthecuriousprogrammer.pdf\n",
      "\tlast accessed: 1738637408.7105265\n",
      "\tsize: 12046743\n",
      "File: /home/josh/Bookshelf/practicallinuxsystemadministration.epub\n",
      "\tlast accessed: 1739041619.5711136\n",
      "\tsize: 4271376\n",
      "File: /home/josh/Bookshelf/test-drivendevelopmentwithpython2e_V2.pdf\n",
      "\tlast accessed: 1738637412.8785024\n",
      "\tsize: 12187802\n",
      "File: /home/josh/Bookshelf/apprenticeshippatterns.pdf\n",
      "\tlast accessed: 1738637387.0826516\n",
      "\tsize: 12594298\n",
      "File: /home/josh/Bookshelf/learninggit.epub\n",
      "\tlast accessed: 1739041605.5791852\n",
      "\tsize: 12275344\n"
     ]
    }
   ],
   "source": [
    "\n",
    "import os\n",
    "def walk_path(parent_path):\n",
    "    print(f\"Checking: {parent_path}\")\n",
    "    childs = os.listdir(parent_path)\n",
    "    \n",
    "    for child in childs:\n",
    "        child_path = os.path.join(parent_path, child)\n",
    "        \n",
    "        if os.path.isfile(child_path):\n",
    "            last_access = os.path.getatime(child_path)\n",
    "            size = os.path.getsize(child_path)\n",
    "            print(f\"File: {child_path}\")\n",
    "            print(f\"\\tlast accessed: {last_access}\")\n",
    "            print(f\"\\tsize: {size}\")\n",
    "        elif os.path.isdir(child_path):\n",
    "            walk_path(child_path)\n",
    "            \n",
    "walk_path(\"/home/josh/Bookshelf\")\n",
    "            \n",
    "    "
   ]
  },
  {
   "cell_type": "code",
   "execution_count": 3,
   "id": "718c4f0b",
   "metadata": {},
   "outputs": [
    {
     "data": {
      "text/plain": [
       "'linux'"
      ]
     },
     "execution_count": 3,
     "metadata": {},
     "output_type": "execute_result"
    }
   ],
   "source": [
    "import sys\n",
    "sys.platform"
   ]
  },
  {
   "cell_type": "code",
   "execution_count": 7,
   "id": "20a3bda5",
   "metadata": {},
   "outputs": [
    {
     "data": {
      "text/plain": [
       "'josh'"
      ]
     },
     "execution_count": 7,
     "metadata": {},
     "output_type": "execute_result"
    }
   ],
   "source": [
    "os.getlogin()"
   ]
  },
  {
   "cell_type": "code",
   "execution_count": null,
   "id": "e8a718e7",
   "metadata": {},
   "outputs": [],
   "source": []
  }
 ],
 "metadata": {
  "kernelspec": {
   "display_name": "Python 3 (ipykernel)",
   "language": "python",
   "name": "python3"
  },
  "language_info": {
   "codemirror_mode": {
    "name": "ipython",
    "version": 3
   },
   "file_extension": ".py",
   "mimetype": "text/x-python",
   "name": "python",
   "nbconvert_exporter": "python",
   "pygments_lexer": "ipython3",
   "version": "3.11.2"
  }
 },
 "nbformat": 4,
 "nbformat_minor": 5
}
